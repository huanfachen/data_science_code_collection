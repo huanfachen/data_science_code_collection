{
 "cells": [
  {
   "cell_type": "markdown",
   "metadata": {},
   "source": [
    "# Description\n",
    "\n",
    "This notebook presents the reporting function for random forest models for classification tasks, using the scikit-learn package.\n",
    "\n",
    "It consists of the permutation feature importance (for individual and group features), confusion matrix, and classification report using stratified cross validation.\n",
    "\n",
    "The input data include:\n",
    "```\n",
    "X: a data.frame of predictor variables\n",
    "y: a 1-D numpy ndarray of response variables.\n",
    "dict_list_group_var**: a dictionary consisting of feature group names and features, e.g. \n",
    "{'group_1':['A', 'B', 'C'], 'group2':['D', 'E']}\n",
    "```\n",
    "\n",
    "The outputs include:\n",
    "- **df_avg_imp_feature**: a dataframe that represents the importance of individual variables\n",
    "- **df_avg_imp_group_feature**: a dataframe that represents the importance of group variables"
   ]
  },
  {
   "cell_type": "markdown",
   "metadata": {},
   "source": [
    "# Loading packages and dataset"
   ]
  },
  {
   "cell_type": "code",
   "execution_count": 1,
   "metadata": {},
   "outputs": [
    {
     "name": "stderr",
     "output_type": "stream",
     "text": [
      "C:\\Users\\Huanfa Chen\\Anaconda3\\envs\\test_tf\\lib\\site-packages\\sklearn\\utils\\deprecation.py:144: FutureWarning: The sklearn.ensemble.forest module is  deprecated in version 0.22 and will be removed in version 0.24. The corresponding classes / functions should instead be imported from sklearn.ensemble. Anything that cannot be imported from sklearn.ensemble is now part of the private API.\n",
      "  warnings.warn(message, FutureWarning)\n"
     ]
    }
   ],
   "source": [
    "from sklearn.model_selection import StratifiedKFold\n",
    "import rfpimp\n",
    "from sklearn.ensemble import RandomForestClassifier\n",
    "from sklearn.datasets import load_wine\n",
    "from sklearn.metrics import confusion_matrix, classification_report\n",
    "from sklearn.model_selection import cross_val_score, cross_val_predict\n",
    "import pandas as pd \n",
    "import numpy as np\n",
    "\n",
    "import matplotlib.pyplot as plt\n",
    "import matplotlib.patches as mpatches\n",
    "\n",
    "%matplotlib inline"
   ]
  },
  {
   "cell_type": "code",
   "execution_count": 2,
   "metadata": {},
   "outputs": [],
   "source": [
    "# define X, Y, list_group_var\n",
    "# here we use the wine dataset for demonstration\n",
    "data = load_wine()\n",
    "\n",
    "X = data.data\n",
    "y = data.target\n",
    "\n",
    "X_column_name = data.feature_names\n",
    "\n",
    "# groups of X variables for demonstration. The grouping is not meaningful though\n",
    "dict_list_group_var = {'group_1':data.feature_names[0:3], 'group_2':data.feature_names[3:6], 'group_3':data.feature_names[6:]}\n",
    "\n",
    "# number of cv folds\n",
    "cv_fold = 10\n",
    "# random_state of StratifiedKFold\n",
    "random_seed = 10"
   ]
  },
  {
   "cell_type": "code",
   "execution_count": 3,
   "metadata": {},
   "outputs": [],
   "source": [
    "# objects for saving the result\n",
    "list_train_accuracy = []\n",
    "list_test_accuracy = []\n",
    "list_y_test_true = []\n",
    "list_y_test_pred = []\n",
    "list_df_importance_individual_feature = []\n",
    "list_df_importance_group_feature = []"
   ]
  },
  {
   "cell_type": "markdown",
   "metadata": {},
   "source": [
    "# Random forest models using cross validation"
   ]
  },
  {
   "cell_type": "code",
   "execution_count": 4,
   "metadata": {},
   "outputs": [
    {
     "name": "stdout",
     "output_type": "stream",
     "text": [
      "StratifiedKFold(n_splits=10, random_state=10, shuffle=True)\n"
     ]
    }
   ],
   "source": [
    "# Note that the output of StratifiedKFold is numpy.ndarray, which needs to be transformed to data.frame before feeding into RandomForestClassifier.fit()\n",
    "# There are three different ways to do cross validation in sklearn. The way using StratifiedKFold is adopted here as the feature importance is computed in each iteration\n",
    "\n",
    "skf = StratifiedKFold(n_splits=cv_fold, shuffle=True, random_state=random_seed)\n",
    "print(skf)\n",
    "\n",
    "for train_index, test_index in skf.split(X, y):\n",
    "    X_train, X_test = X[train_index], X[test_index]\n",
    "    y_train, y_test = y[train_index], y[test_index]\n",
    "    \n",
    "    # transform numpy.ndarray to dataframe\n",
    "    X_train = pd.DataFrame(X_train, columns=X_column_name)\n",
    "    X_test = pd.DataFrame(X_test, columns=X_column_name)\n",
    "    \n",
    "    rf = RandomForestClassifier()\n",
    "    rf.fit(X_train, y_train)\n",
    "    \n",
    "    # append the accuracy to the lists\n",
    "    list_train_accuracy.append(rf.score(X_train, y_train))\n",
    "    list_test_accuracy.append(rf.score(X_test, y_test))\n",
    "    \n",
    "    # append the true and predicted labels of the validation set\n",
    "    list_y_test_true = list_y_test_true + y_test.tolist()\n",
    "    list_y_test_pred = list_y_test_pred + rf.predict(X_test).tolist()\n",
    "    \n",
    "    # append the feature importance\n",
    "    list_df_importance_individual_feature.append(rfpimp.importances(rf, X_test, y_test))\n",
    "    imp_group_vars = rfpimp.importances(rf, X_test, y_test, features = [dict_list_group_var[x] for x in dict_list_group_var], n_samples=-1)\n",
    "    # reset index\n",
    "    imp_group_vars = imp_group_vars.reset_index()\n",
    "    # change the group name\n",
    "    imp_group_vars.loc[:,'Feature'] = dict_list_group_var.keys()\n",
    "    list_df_importance_group_feature.append(imp_group_vars)"
   ]
  },
  {
   "cell_type": "markdown",
   "metadata": {},
   "source": [
    "# Permutation feature importance"
   ]
  },
  {
   "cell_type": "code",
   "execution_count": 18,
   "metadata": {},
   "outputs": [
    {
     "name": "stdout",
     "output_type": "stream",
     "text": [
      "Importance of individual variables\n",
      "                         Feature  Importance\n",
      "0                        proline    0.073856\n",
      "1                color_intensity    0.073529\n",
      "2                     flavanoids    0.033987\n",
      "3                        alcohol    0.022876\n",
      "4              alcalinity_of_ash    0.000000\n",
      "5                            ash    0.000000\n",
      "6                      magnesium    0.000000\n",
      "7                     malic_acid    0.000000\n",
      "8           nonflavanoid_phenols    0.000000\n",
      "9                proanthocyanins    0.000000\n",
      "10                 total_phenols    0.000000\n",
      "11                           hue   -0.000327\n",
      "12  od280/od315_of_diluted_wines   -0.005556\n",
      "*****************************\n",
      "Importance of group variables\n",
      "   Feature  Importance\n",
      "0  group_1    0.415359\n",
      "1  group_2    0.033987\n",
      "2  group_3    0.000000\n"
     ]
    }
   ],
   "source": [
    "# Here, the permutation feature importance is the avearge of all iterations. Alternatively, the permutation feature importance can be computed using one-round of train-test plit and on the testing data.The latter approach would be more efficient.\n",
    "\n",
    "# post processing the feature importance\n",
    "# compute the average across all iterations. Rename the variables as needed\n",
    "# concatenate all data frames\n",
    "comb_df_importance_individual_feature = pd.concat(list_df_importance_individual_feature)\n",
    "# group by 'Feature' and take the average\n",
    "df_avg_imp_feature = comb_df_importance_individual_feature.groupby(['Feature']).mean()\n",
    "\n",
    "# sort by the importance in an descending order, reset index\n",
    "df_avg_imp_feature = df_avg_imp_feature.sort_values(by=['Importance'], ascending=False).reset_index()\n",
    "print('Importance of individual variables')\n",
    "print(df_avg_imp_feature)\n",
    "\n",
    "# deal with group variables\n",
    "comb_df_importance_group_feature = pd.concat(list_df_importance_group_feature)\n",
    "df_avg_imp_group_feature = comb_df_importance_group_feature.groupby(['Feature']).mean()\n",
    "# sort by the importance in an descending order, reset index\n",
    "df_avg_imp_group_feature = df_avg_imp_group_feature.sort_values(by=['Importance'], ascending=False).reset_index()\n",
    "\n",
    "print('*****************************')\n",
    "print('Importance of group variables')\n",
    "print(df_avg_imp_group_feature)"
   ]
  },
  {
   "cell_type": "code",
   "execution_count": 19,
   "metadata": {},
   "outputs": [
    {
     "name": "stdout",
     "output_type": "stream",
     "text": [
      "13\n"
     ]
    },
    {
     "data": {
      "image/png": "[encoded data removed]",
      "text/plain": [
       "<Figure size 360x504 with 1 Axes>"
      ]
     },
     "metadata": {
      "needs_background": "light"
     },
     "output_type": "display_data"
    }
   ],
   "source": [
    "# plotting feature importance using horizontal bar plots and only one colour\n",
    "\n",
    "# print(df_avg_imp_feature)\n",
    "num_feature = df_avg_imp_feature.shape[0]\n",
    "print(num_feature)\n",
    "fig, ax = plt.subplots(1, figsize=(5,7))\n",
    "ax.barh(df_avg_imp_feature.index, df_avg_imp_feature['Importance'], height=0.9)\n",
    "ax.set_yticks(ticks=np.arange(0,29,1))\n",
    "ax.set_yticklabels(labels=df_avg_imp_feature['Feature'])\n",
    "# ax.set_xlim(-.005,.03)\n",
    "ax.set_ylim(-1, float(num_feature) + 0.4)\n",
    "ax.vlines(0,-1,float(num_feature) + 0.6, linewidth=1)\n",
    "\n",
    "ax.set_xlabel(\"Decrease in model accuracy\",size=18)\n",
    "\n",
    "ax.invert_yaxis();\n",
    "ax.set_ylabel(\"Variable\",size=18)\n",
    "ax.set_title(\"Random Forest Model\", size=18)\n",
    "plt.subplots_adjust(wspace=0.1)\n",
    "\n",
    "# saving the plot as an image file\n",
    "# plt.savefig('../../other/images/feat_imp.tif',bbox_inches='tight',dpi = 300)"
   ]
  },
  {
   "cell_type": "code",
   "execution_count": 17,
   "metadata": {},
   "outputs": [
    {
     "name": "stdout",
     "output_type": "stream",
     "text": [
      "['alcohol', 'malic_acid', 'ash']\n",
      "['alcalinity_of_ash', 'magnesium', 'total_phenols']\n",
      "['flavanoids', 'nonflavanoid_phenols', 'proanthocyanins', 'color_intensity', 'hue', 'od280/od315_of_diluted_wines', 'proline']\n"
     ]
    },
    {
     "data": {
      "text/plain": [
       "<matplotlib.legend.Legend at 0x229e086d2e8>"
      ]
     },
     "execution_count": 17,
     "metadata": {},
     "output_type": "execute_result"
    },
    {
     "data": {
      "image/png": "[encoded data removed]",
      "text/plain": [
       "<Figure size 360x504 with 1 Axes>"
      ]
     },
     "metadata": {
      "needs_background": "light"
     },
     "output_type": "display_data"
    }
   ],
   "source": [
    "# feature importance plots using different colours for different groups\n",
    "# the code is not working. See this link: https://stackoverflow.com/questions/44493417/pandas-dataframe-bar-plot-plot-bars-different-colors-from-specific-colormap\n",
    "\n",
    "list_col = ['C0', 'C1', 'C2']\n",
    "\n",
    "num_feature = df_avg_imp_feature.shape[0]\n",
    "fig, ax = plt.subplots(1, figsize=(5,7))\n",
    "# lt_mask = feat_imp['Feature'].str.contains('LT_')\n",
    "# g_mask = feat_imp['Feature'].str.contains('G_')\n",
    "\n",
    "list_legend_elements = []\n",
    "for (feature_group, features), color in zip(dict_list_group_var.items(), list_col):\n",
    "    print(features)\n",
    "    df_subset = df_avg_imp_feature[df_avg_imp_feature['Feature'].isin(features)]\n",
    "    ax.barh(df_subset.index, df_subset['Importance'], height=0.9)\n",
    "    list_legend_elements.append(mpatches.Patch(facecolor=color, edgecolor=color))\n",
    "\n",
    "# plt.barh(feat_imp[~lt_mask]['Feature'].index, feat_imp[~lt_mask]['Importance'], height=0.9)\n",
    "ax.set_yticks(ticks=np.arange(0,29,1))\n",
    "ax.set_yticklabels(labels=df_avg_imp_feature['Feature'])\n",
    "# ax.set_xlim(-.005,.03)\n",
    "ax.set_ylim(-0.55,num_feature + 0.4)\n",
    "ax.vlines(0,-0.6,num_feature + 0.5, linewidth=1)\n",
    "\n",
    "ax.set_xlabel(\"Decrease in model accuracy\",size=18)\n",
    "\n",
    "ax.invert_yaxis();\n",
    "ax.set_ylabel(\"Variable\",size=18)\n",
    "ax.set_title(\"Model 4\", size=18)\n",
    "plt.subplots_adjust(wspace=0.1)\n",
    "\n",
    "plt.legend(list_legend_elements,dict_list_group_var.keys(),fontsize=14, loc=(1.04,0.4))\n",
    "# plt.savefig('../../other/images/feat_imp.tif',bbox_inches='tight',dpi = 300)"
   ]
  },
  {
   "cell_type": "code",
   "execution_count": 8,
   "metadata": {},
   "outputs": [
    {
     "name": "stdout",
     "output_type": "stream",
     "text": [
      "3\n"
     ]
    },
    {
     "data": {
      "image/png": "[encoded data removed]",
      "text/plain": [
       "<Figure size 360x504 with 1 Axes>"
      ]
     },
     "metadata": {
      "needs_background": "light"
     },
     "output_type": "display_data"
    }
   ],
   "source": [
    "# group feature importance\n",
    "num_feature = df_avg_imp_group_feature.shape[0]\n",
    "df_feature_imp = df_avg_imp_group_feature\n",
    "\n",
    "print(num_feature)\n",
    "fig, ax = plt.subplots(1, figsize=(5,7))\n",
    "ax.barh(df_feature_imp.index, df_feature_imp['Importance'], height=0.9)\n",
    "ax.set_yticks(ticks=np.arange(0,29,1))\n",
    "ax.set_yticklabels(labels=df_feature_imp['Feature'])\n",
    "# ax.set_xlim(-.005,.03)\n",
    "ax.set_ylim(-1, float(num_feature) + 0.4)\n",
    "ax.vlines(0,-1,float(num_feature) + 0.6, linewidth=1)\n",
    "\n",
    "ax.set_xlabel(\"Decrease in model accuracy\",size=18)\n",
    "\n",
    "ax.invert_yaxis();\n",
    "ax.set_ylabel(\"Variable\",size=18)\n",
    "ax.set_title(\"Random Forest Model\", size=18)\n",
    "plt.subplots_adjust(wspace=0.1)\n",
    "\n",
    "del df_feature_imp"
   ]
  },
  {
   "cell_type": "markdown",
   "metadata": {},
   "source": [
    "# Confusion matrix"
   ]
  },
  {
   "cell_type": "code",
   "execution_count": 9,
   "metadata": {},
   "outputs": [
    {
     "name": "stdout",
     "output_type": "stream",
     "text": [
      "The accumulative confusion matrix\n",
      "    0   1   2\n",
      "0  58   1   0\n",
      "1   1  68   2\n",
      "2   0   0  48\n",
      "The accumulative report\n",
      "              precision    recall  f1-score   support\n",
      "\n",
      "           0       0.98      0.98      0.98        59\n",
      "           1       0.99      0.96      0.97        71\n",
      "           2       0.96      1.00      0.98        48\n",
      "\n",
      "    accuracy                           0.98       178\n",
      "   macro avg       0.98      0.98      0.98       178\n",
      "weighted avg       0.98      0.98      0.98       178\n",
      "\n"
     ]
    }
   ],
   "source": [
    "# post precessing the confusion matrix\n",
    "conf_mat = confusion_matrix(list_y_test_true, list_y_test_pred)\n",
    "print('The accumulative confusion matrix')\n",
    "print(pd.DataFrame(conf_mat))\n",
    "print('The accumulative report')\n",
    "print(classification_report(list_y_test_true, list_y_test_pred))"
   ]
  },
  {
   "cell_type": "code",
   "execution_count": 20,
   "metadata": {},
   "outputs": [
    {
     "name": "stdout",
     "output_type": "stream",
     "text": [
      "Cross validation splittor:  StratifiedKFold(n_splits=10, random_state=10, shuffle=True)\n",
      "Cross validation score [mean(std)]: 0.9775 (+/-0.0276)\n",
      "******************\n",
      "The accumulative confusion matrix\n",
      "    0   1   2\n",
      "0  58   1   0\n",
      "1   1  68   2\n",
      "2   0   0  48\n",
      "******************\n",
      "The accumulative report\n",
      "              precision    recall  f1-score   support\n",
      "\n",
      "           0       0.98      0.98      0.98        59\n",
      "           1       0.99      0.96      0.97        71\n",
      "           2       0.96      1.00      0.98        48\n",
      "\n",
      "    accuracy                           0.98       178\n",
      "   macro avg       0.98      0.98      0.98       178\n",
      "weighted avg       0.98      0.98      0.98       178\n",
      "\n"
     ]
    }
   ],
   "source": [
    "# Another way to compute cross-validated confusion matrix using cross_val_score\n",
    "\n",
    "skf = StratifiedKFold(n_splits=cv_fold, shuffle=True, random_state=random_seed)\n",
    "print(\"Cross validation splittor: \", skf)\n",
    "\n",
    "# output accuracy\n",
    "rf = RandomForestClassifier()\n",
    "scores = cross_val_score(rf, X, y, cv=skf)\n",
    "\n",
    "print(\"Cross validation score [mean(std)]: %0.4f (+/-%0.4f)\" % (np.mean(scores), np.std(scores)))\n",
    "\n",
    "# output the accumulative confusion matrix\n",
    "y_pred = cross_val_predict(rf, X, y, cv=skf)\n",
    "conf_mat = confusion_matrix(y, y_pred)\n",
    "print('******************')\n",
    "print('The accumulative confusion matrix')\n",
    "print(pd.DataFrame(conf_mat))\n",
    "print('******************')\n",
    "print('The accumulative report')\n",
    "print(classification_report(y, y_pred))"
   ]
  }
 ],
 "metadata": {
  "kernelspec": {
   "display_name": "Python [conda env:test_tf]",
   "language": "python",
   "name": "conda-env-test_tf-py"
  },
  "language_info": {
   "codemirror_mode": {
    "name": "ipython",
    "version": 3
   },
   "file_extension": ".py",
   "mimetype": "text/x-python",
   "name": "python",
   "nbconvert_exporter": "python",
   "pygments_lexer": "ipython3",
   "version": "3.6.6"
  },
  "toc": {
   "base_numbering": 1,
   "nav_menu": {},
   "number_sections": true,
   "sideBar": true,
   "skip_h1_title": false,
   "title_cell": "Table of Contents",
   "title_sidebar": "Contents",
   "toc_cell": false,
   "toc_position": {},
   "toc_section_display": true,
   "toc_window_display": true
  }
 },
 "nbformat": 4,
 "nbformat_minor": 4
}
