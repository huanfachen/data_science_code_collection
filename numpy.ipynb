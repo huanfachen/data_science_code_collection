{
 "cells": [
  {
   "cell_type": "markdown",
   "metadata": {},
   "source": [
    "# Numpy"
   ]
  },
  {
   "cell_type": "markdown",
   "metadata": {},
   "source": [
    "## Create an array"
   ]
  },
  {
   "cell_type": "code",
   "execution_count": 3,
   "metadata": {},
   "outputs": [
    {
     "name": "stdout",
     "output_type": "stream",
     "text": [
      "[[ 3.  1. inf  9.]\n",
      " [ 5.  9.  1.  7.]\n",
      " [ 1.  8.  6.  2.]\n",
      " [ 1.  5.  8.  0.]\n",
      " [ 1.  9.  5. -1.]]\n"
     ]
    }
   ],
   "source": [
    "import numpy as np\n",
    "sims = np.array([[3,1,np.Inf,9],[5,9,1,7],[1,8,6,2], [1,5,8,0], [1,9,5,-1]])\n",
    "print(sims)"
   ]
  },
  {
   "cell_type": "code",
   "execution_count": 32,
   "metadata": {},
   "outputs": [],
   "source": [
    "def generate_sample_numpy_array():\n",
    "    return np.array([[3,1,np.Inf,9],[5,9,1,7],[1,8,6,2], [1,5,8,0], [1,9,5,-1]])"
   ]
  },
  {
   "cell_type": "markdown",
   "metadata": {},
   "source": [
    "## Axis of array\n",
    "\n",
    "```\n",
    "By definition, the axis number of the dimension is the index of that dimension within the array's shape. It is also the position used to access that dimension during indexing.\n",
    "\n",
    "If you do .sum(axis=n), for example, then dimension n is collapsed and deleted, with each value in the new matrix equal to the sum of the corresponding collapsed values. For example, if b has shape (5,6,7,8), and you do c = b.sum(axis=2), then axis 2 (dimension with size 7) is collapsed, and the result has shape (5,6,8). Furthermore, c[x,y,z] is equal to the sum of all elements b[x,y,:,z].\n",
    "```\n",
    "\n",
    "See [this post](https://stackoverflow.com/a/17079437/4667568)."
   ]
  },
  {
   "cell_type": "code",
   "execution_count": 4,
   "metadata": {},
   "outputs": [
    {
     "name": "stdout",
     "output_type": "stream",
     "text": [
      "19\n"
     ]
    }
   ],
   "source": [
    "# How many non-zero values are in this array?\n",
    "print(np.count_nonzero(sims))"
   ]
  },
  {
   "cell_type": "code",
   "execution_count": 5,
   "metadata": {},
   "outputs": [
    {
     "data": {
      "text/plain": [
       "array([ 1.,  1.,  1.,  0., -1.])"
      ]
     },
     "execution_count": 5,
     "metadata": {},
     "output_type": "execute_result"
    }
   ],
   "source": [
    "# find out the minimum value per row\n",
    "# note that when axis = 1, the computation is along the columns (meaning per row)\n",
    "np.min(sims, axis=1)"
   ]
  },
  {
   "cell_type": "code",
   "execution_count": 7,
   "metadata": {},
   "outputs": [
    {
     "data": {
      "text/plain": [
       "[3, 2, 3, 3, 3]"
      ]
     },
     "execution_count": 7,
     "metadata": {},
     "output_type": "execute_result"
    }
   ],
   "source": [
    "# given a list of column numbers, find the column index of the minimum value per row\n",
    "list_col = [3,2]\n",
    "[list_col[i] for i in np.argmin(sims[:,list_col], axis=1).tolist()]"
   ]
  },
  {
   "cell_type": "code",
   "execution_count": 8,
   "metadata": {},
   "outputs": [
    {
     "data": {
      "text/plain": [
       "array([[ 3.,  1., inf,  9.],\n",
       "       [ 5.,  9.,  1.,  7.],\n",
       "       [ 1.,  8.,  6.,  2.],\n",
       "       [ 1.,  5.,  8., -2.],\n",
       "       [ 1.,  9.,  5., -1.]])"
      ]
     },
     "execution_count": 8,
     "metadata": {},
     "output_type": "execute_result"
    }
   ],
   "source": [
    "# replace the zero values in the array with -2222\n",
    "new_val = -2222\n",
    "np.where(sims == 0, new_val, sims)"
   ]
  },
  {
   "cell_type": "code",
   "execution_count": 9,
   "metadata": {},
   "outputs": [
    {
     "name": "stdout",
     "output_type": "stream",
     "text": [
      "(array([0]), array([2]))\n"
     ]
    }
   ],
   "source": [
    "# get the row and column index of the zero values in the array\n",
    "print(np.where(sims == np.Inf))\n",
    "# in the output, the first and second array is the row and column number"
   ]
  },
  {
   "cell_type": "code",
   "execution_count": 11,
   "metadata": {},
   "outputs": [
    {
     "data": {
      "text/plain": [
       "(array([0, 3]),)"
      ]
     },
     "execution_count": 11,
     "metadata": {},
     "output_type": "execute_result"
    }
   ],
   "source": [
    "# in a given column, find out the index of rows that are smaller than a threshold\n",
    "col_number = 1\n",
    "threshold = 7\n",
    "np.where(sims[:,col_number] < threshold)"
   ]
  },
  {
   "cell_type": "code",
   "execution_count": 22,
   "metadata": {},
   "outputs": [
    {
     "name": "stdout",
     "output_type": "stream",
     "text": [
      "[[ 5.  9.  1.  7.]\n",
      " [ 1.  8.  6.  2.]\n",
      " [ 1.  9.  5. -1.]]\n",
      "[9. 8. 9.]\n"
     ]
    },
    {
     "ename": "IndexError",
     "evalue": "shape mismatch: indexing arrays could not be broadcast together with shapes (3,) (2,) ",
     "output_type": "error",
     "traceback": [
      "\u001b[0;31m---------------------------------------------------------------------------\u001b[0m",
      "\u001b[0;31mIndexError\u001b[0m                                Traceback (most recent call last)",
      "\u001b[1;32m/workspaces/data_science_code_collection/numpy.ipynb Cell 11\u001b[0m in \u001b[0;36m<cell line: 11>\u001b[0;34m()\u001b[0m\n\u001b[1;32m      <a href='vscode-notebook-cell://dev-container%2B633a5c55736572735c484368656e5c4f6e654472697665202d20556e697665727369747920436f6c6c656765204c6f6e646f6e5c4769744875625c646174615f736369656e63655f636f64655f636f6c6c656374696f6e5c2e707974686f6e2d746573742e636f64652d776f726b7370616365/workspaces/data_science_code_collection/numpy.ipynb#X14sdnNjb2RlLXJlbW90ZQ%3D%3D?line=7'>8</a>\u001b[0m \u001b[39mprint\u001b[39m(sims[(x \u001b[39m>\u001b[39m \u001b[39m1\u001b[39m) \u001b[39m&\u001b[39m (x \u001b[39m<\u001b[39m \u001b[39m5\u001b[39m), \u001b[39m1\u001b[39m])\n\u001b[1;32m     <a href='vscode-notebook-cell://dev-container%2B633a5c55736572735c484368656e5c4f6e654472697665202d20556e697665727369747920436f6c6c656765204c6f6e646f6e5c4769744875625c646174615f736369656e63655f636f64655f636f6c6c656374696f6e5c2e707974686f6e2d746573742e636f64652d776f726b7370616365/workspaces/data_science_code_collection/numpy.ipynb#X14sdnNjb2RlLXJlbW90ZQ%3D%3D?line=9'>10</a>\u001b[0m \u001b[39m# # this doesn't work\u001b[39;00m\n\u001b[0;32m---> <a href='vscode-notebook-cell://dev-container%2B633a5c55736572735c484368656e5c4f6e654472697665202d20556e697665727369747920436f6c6c656765204c6f6e646f6e5c4769744875625c646174615f736369656e63655f636f64655f636f6c6c656374696f6e5c2e707974686f6e2d746573742e636f64652d776f726b7370616365/workspaces/data_science_code_collection/numpy.ipynb#X14sdnNjb2RlLXJlbW90ZQ%3D%3D?line=10'>11</a>\u001b[0m \u001b[39mprint\u001b[39m(sims[(x \u001b[39m>\u001b[39;49m \u001b[39m1\u001b[39;49m) \u001b[39m&\u001b[39;49m (x \u001b[39m<\u001b[39;49m \u001b[39m5\u001b[39;49m), [\u001b[39m0\u001b[39;49m,\u001b[39m1\u001b[39;49m]])\n",
      "\u001b[0;31mIndexError\u001b[0m: shape mismatch: indexing arrays could not be broadcast together with shapes (3,) (2,) "
     ]
    }
   ],
   "source": [
    "# slicing of the array: only slice on one axis in one command\n",
    "## exmaple: select the rows in 'sims' corresponding to elements in x that are greater than 1 and less than 5.\n",
    "x = np.array([5, 2, 3, 1, 4])\n",
    "print(sims[(x > 1) & (x < 5)])\n",
    "\n",
    "# how about adding another condition - selecting the second column?\n",
    "# This one works!\n",
    "print(sims[(x > 1) & (x < 5), 1])\n",
    "\n",
    "# # this doesn't work\n",
    "print(sims[(x > 1) & (x < 5), [0,1]])"
   ]
  },
  {
   "cell_type": "markdown",
   "metadata": {},
   "source": [
    "## NumPy broadcasting\n",
    "\n",
    "*Principle*: When accessing a numpy multi-dimensional array with other multi-dimensional arrays of integer type the arrays used for the indices need to have the same shape. For example, (3,)(3,) or (2,)(2,). If any of the array is of the shape (1,), this is okay.\n",
    "\n",
    "Numpy will happily broadcast, if possible - but for that to be possible the arrays need to have the same dimensionality.\n",
    "\n",
    "NumPy broadcasting aligns dimensions from right to left, not left to right.\n",
    "\n",
    "Key message:\n",
    "1. If you want to use one condition to filter the rows and another condition to filter the columns of an array, it is safe to write two commands - one command for filtering rows and the other for filtering columns."
   ]
  },
  {
   "cell_type": "code",
   "execution_count": 31,
   "metadata": {},
   "outputs": [
    {
     "name": "stdout",
     "output_type": "stream",
     "text": [
      "An IndexError occurred\n",
      "[[3. 1.]\n",
      " [5. 9.]\n",
      " [1. 8.]\n",
      " [1. 5.]\n",
      " [1. 9.]]\n",
      "[[1.]\n",
      " [9.]\n",
      " [8.]\n",
      " [5.]\n",
      " [9.]]\n",
      "[[ 3.  1. inf  9.]\n",
      " [ 5.  9.  1.  7.]\n",
      " [ 1.  8.  6.  2.]\n",
      " [ 1.  5.  8.  0.]\n",
      " [ 1.  9.  5. -1.]]\n",
      "[ 9.  6. -1.]\n",
      "[ 9.  6. -1.]\n",
      "[9. 6. 9.]\n"
     ]
    }
   ],
   "source": [
    "# this doesn't work\n",
    "try:\n",
    "  print(sims[(x > 1) & (x < 5), [0,1]])\n",
    "except IndexError:\n",
    "  print(\"An IndexError occurred\")\n",
    "\n",
    "# this one works\n",
    "print(sims[:, [0,1]])\n",
    "\n",
    "# this one also works\n",
    "print(sims[:, [1]])\n",
    "\n",
    "# this works!\n",
    "x = np.array([5, 2, 3, 1, 4])\n",
    "xx = np.array([5, 2, 3, 1])\n",
    "print(sims)\n",
    "print(sims[(x > 1) & (x < 5), (xx > 0) & (xx < 5)])\n",
    "# same as\n",
    "print(sims[[1,2,4], [1,2,3]])\n",
    "\n",
    "# this one also works, but the result is different from the above\n",
    "print(sims[[1,2,4], [1,2,1]])"
   ]
  },
  {
   "cell_type": "code",
   "execution_count": 36,
   "metadata": {},
   "outputs": [
    {
     "name": "stdout",
     "output_type": "stream",
     "text": [
      "False\n",
      "False\n"
     ]
    }
   ],
   "source": [
    "# are all values in column 0 smaller than column 1?\n",
    "print(np.all(sims[:,0] < sims[:,1]))\n",
    "# anothe way\n",
    "print((sims[:,0] < sims[:,1]).all())"
   ]
  },
  {
   "cell_type": "code",
   "execution_count": 35,
   "metadata": {},
   "outputs": [
    {
     "name": "stdout",
     "output_type": "stream",
     "text": [
      "[]\n",
      "[1. 1. 1. 1. 1.]\n"
     ]
    }
   ],
   "source": [
    "# find out the elements that are close to a given value\n",
    "# By default, the tolerance is 1e-05 (relative tol), 1e-08 (absolute tol)\n",
    "print(sims[np.isclose(sims, 0.999)])\n",
    "print(sims[np.isclose(sims, 0.999, atol=0.1)])"
   ]
  },
  {
   "cell_type": "code",
   "execution_count": 49,
   "metadata": {},
   "outputs": [
    {
     "name": "stdout",
     "output_type": "stream",
     "text": [
      "[9 4 4 3 3 9 0 4 6 0]\n",
      "The top 4 largest elements\n",
      "[4 9 6 9]\n",
      "Is this sorted? False\n",
      "Getting the 4-th largest elements and the index\n",
      "[4 6 9 9]\n",
      "[1 8 5 0]\n",
      "The value: 4\n",
      "The index of the original array: 1\n"
     ]
    }
   ],
   "source": [
    "# get the indices and the value of the N-th largest elements\n",
    "# demonstration\n",
    "a = np.array([9, 4, 4, 3, 3, 9, 0, 4, 6, 0])\n",
    "print(a)\n",
    "\n",
    "# The N value\n",
    "target_rank = 4 \n",
    "print(\"The top {} largest elements\".format(target_rank))\n",
    "# this returns the top N largest elements, but not sorted\n",
    "# this function runs in linear time in the worst case, but the returned indices are not sorted\n",
    "# argpartition will divide the array into two parts, with the second parts larger than the first part.\n",
    "ind = np.argpartition(a, -target_rank)[-target_rank:]\n",
    "print(a[ind])\n",
    "print(\"Is this sorted? {}\".format(np.all(a[:-1] <= a[1:])))\n",
    "\n",
    "print(\"Getting the {}-th largest elements and the index\".format(target_rank))\n",
    "print(np.sort(a[ind]))\n",
    "print(ind[np.argsort(a[ind])])\n",
    "print(\"The value: {}\".format(np.sort(a[ind])[0]))\n",
    "# by default, np.argsort will sort the array in ascending order\n",
    "print(\"The index of the original array: {}\".format(ind[np.argsort(a[ind])][0]))"
   ]
  },
  {
   "cell_type": "code",
   "execution_count": null,
   "metadata": {},
   "outputs": [
    {
     "name": "stdout",
     "output_type": "stream",
     "text": [
      "The N-th largest element: value = 4, index = 7\n",
      "[1 5 8 0]\n",
      "The N-th largest element: value = 4, index = 1\n"
     ]
    }
   ],
   "source": [
    "# get the indices and the value of the N-th largest elements\n",
    "# summary\n",
    "\n",
    "# Method 1: if the array is short and computing efficiency is not a concern\n",
    "a = np.array([9, 4, 4, 3, 3, 9, 0, 4, 6, 0])\n",
    "N = 4\n",
    "# note that argsort returns the last index if there is a tie\n",
    "print(\"The N-th largest element: value = {}, index = {}\".format(np.sort(a)[-N], np.argsort(a)[-N]))\n",
    "\n",
    "# Method 2: if computing efficiency is a concern\n",
    "ind = np.argpartition(a, -N)[-N:]\n",
    "print(ind)\n",
    "# note that if there is a tie of the N-largest value, the first index is returned\n",
    "print(\"The N-th largest element: value = {}, index = {}\".format(np.sort(a[ind])[0], ind[np.argsort(a[ind])[0]]))\n",
    "\n",
    "# Other methods: see https://stackoverflow.com/a/10337643/4667568"
   ]
  },
  {
   "cell_type": "code",
   "execution_count": 57,
   "metadata": {},
   "outputs": [
    {
     "name": "stdout",
     "output_type": "stream",
     "text": [
      "True\n",
      "False\n"
     ]
    }
   ],
   "source": [
    "# Is an array sorted?\n",
    "is_sorted = lambda a: np.all(a[:-1] <= a[1:])\n",
    "a = np.array([1,2,3,4,9])\n",
    "print(is_sorted(a))\n",
    "a = np.array([1,2,1,4,9])\n",
    "print(is_sorted(a))"
   ]
  }
 ],
 "metadata": {
  "kernelspec": {
   "display_name": "Python 3.10.5 ('base')",
   "language": "python",
   "name": "python3"
  },
  "language_info": {
   "codemirror_mode": {
    "name": "ipython",
    "version": 3
   },
   "file_extension": ".py",
   "mimetype": "text/x-python",
   "name": "python",
   "nbconvert_exporter": "python",
   "pygments_lexer": "ipython3",
   "version": "3.10.5"
  },
  "orig_nbformat": 4,
  "vscode": {
   "interpreter": {
    "hash": "d4d1e4263499bec80672ea0156c357c1ee493ec2b1c70f0acce89fc37c4a6abe"
   }
  }
 },
 "nbformat": 4,
 "nbformat_minor": 2
}
