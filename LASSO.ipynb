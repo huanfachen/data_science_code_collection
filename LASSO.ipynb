{
 "cells": [
  {
   "cell_type": "markdown",
   "metadata": {},
   "source": [
    "# Lasso"
   ]
  },
  {
   "cell_type": "code",
   "execution_count": 7,
   "metadata": {},
   "outputs": [
    {
     "name": "stdout",
     "output_type": "stream",
     "text": [
      "The coefficient of determination is: 0.6825842212709925\n",
      "--- The coefficients of variables ---\n",
      "        var      coef\n",
      "0      CRIM -0.063437\n",
      "1        ZN  0.049165\n",
      "2     INDUS -0.000000\n",
      "3      CHAS  0.000000\n",
      "4       NOX -0.000000\n",
      "5        RM  0.949811\n",
      "6       AGE  0.020910\n",
      "7       DIS -0.668790\n",
      "8       RAD  0.264206\n",
      "9       TAX -0.015212\n",
      "10  PTRATIO -0.722966\n",
      "11        B  0.008247\n",
      "12    LSTAT -0.761115\n"
     ]
    }
   ],
   "source": [
    "# This program performs a LASSO linear regression from data stored in a csv file,\n",
    "# outputs a linear regression model\n",
    "\n",
    "# The data file must be in columns of numbers and with column labels\n",
    "# The first column is the y values, the following columns are the predictors x1, x2, x3, etc.\n",
    "\n",
    "# It must be saved as a csv file (e.g. use \"Save As\" in Excel and choose csv format).\n",
    "# It must be saved in the same folder as this program.\n",
    "# See the file data_Boston_house_price.csv for reference.\n",
    "\n",
    "from sklearn import linear_model\n",
    "import pandas as pd\n",
    "from itertools import cycle\n",
    "from sklearn.linear_model import lasso_path\n",
    "import matplotlib.pyplot as plt\n",
    "from sklearn.preprocessing import StandardScaler\n",
    "\n",
    "# A description of this dataset can be found in this link\n",
    "# https://github.com/rupakc/UCI-Data-Analysis/tree/master/Boston%20Housing%20Dataset/Boston%20Housing\n",
    "\n",
    "data = pd.read_csv(\"data_Boston_house_price.csv\")\n",
    "y = data[\"HOUSE_PRICE\"]\n",
    "X = data.drop(\"HOUSE_PRICE\", axis=1)\n",
    "# drop the row number\n",
    "X = X.drop('Unnamed: 0', axis=1)\n",
    "\n",
    "# About parameters\n",
    "# The default alpha value is 1\n",
    "# increase the max_iter to guarantee convergence\n",
    "# The parameter of 'normalize' is confusing. It is recommended to set this parameter as False.\n",
    "lasso_model = linear_model.Lasso(max_iter=10e7, normalize=False)\n",
    "lasso_model.fit(X=X, y=y)\n",
    "print(\"The coefficient of determination is:\", lasso_model.score(X=X, y=y))\n",
    "\n",
    "print(\"--- The coefficients of variables ---\",)\n",
    "df_coef_lasso = pd.DataFrame({\"var\": X.columns.values, \"coef\":lasso_model.coef_})\n",
    "print(df_coef_lasso)"
   ]
  },
  {
   "cell_type": "code",
   "execution_count": 5,
   "metadata": {},
   "outputs": [
    {
     "name": "stdout",
     "output_type": "stream",
     "text": [
      "The coefficient of determination is: 0.6628192101128285\n",
      "--- The coefficients of variables ---\n",
      "        var      coef\n",
      "0      CRIM -0.000000\n",
      "1        ZN  0.000000\n",
      "2     INDUS -0.000000\n",
      "3      CHAS  0.000000\n",
      "4       NOX -0.000000\n",
      "5        RM  2.713355\n",
      "6       AGE -0.000000\n",
      "7       DIS -0.000000\n",
      "8       RAD -0.000000\n",
      "9       TAX -0.000000\n",
      "10  PTRATIO -1.343549\n",
      "11        B  0.180957\n",
      "12    LSTAT -3.543381\n"
     ]
    }
   ],
   "source": [
    "# About parameters\n",
    "# test Standardisation before using the lasso model\n",
    "# The default alpha value is 1\n",
    "# increase the max_iter to guarantee convergence\n",
    "# The parameter of 'normalize' is confusing. It is recommended to set this parameter as False.\n",
    "lasso_model = linear_model.Lasso(max_iter=10e7, normalize=False)\n",
    "std_scaler = StandardScaler()\n",
    "std_scaler.fit(X)\n",
    "X_std = std_scaler.transform(X)\n",
    "lasso_model.fit(X=X_std, y=y)\n",
    "print(\"The coefficient of determination is:\", lasso_model.score(X=X_std, y=y))\n",
    "\n",
    "print(\"--- The coefficients of variables ---\",)\n",
    "df_coef_lasso = pd.DataFrame({\"var\": X.columns.values, \"coef\":lasso_model.coef_})\n",
    "print(df_coef_lasso)"
   ]
  },
  {
   "cell_type": "code",
   "execution_count": 9,
   "metadata": {},
   "outputs": [
    {
     "data": {
      "text/plain": [
       "(-1.25, 4.25, -3.515528268552263, 4.378667722183441)"
      ]
     },
     "execution_count": 9,
     "metadata": {},
     "output_type": "execute_result"
    },
    {
     "data": {
      "image/png": "[encoded data removed]",
      "text/plain": [
       "<Figure size 432x288 with 1 Axes>"
      ]
     },
     "metadata": {
      "needs_background": "light"
     },
     "output_type": "display_data"
    }
   ],
   "source": [
    "# visualise how the coefficients change with the lambda value using a plot of LASSO PATH\n",
    "# standardise the X data by dividing each element by the standard deviation of the given column (axis=0)\n",
    "# The returned DataFrame will have a std of 1 for each column\n",
    "# See reference: https://scikit-learn.org/stable/auto_examples/linear_model/plot_lasso_coordinate_descent_path.html#sphx-glr-auto-examples-linear-model-plot-lasso-coordinate-descent-path-py\n",
    "import numpy as np\n",
    "\n",
    "X_standardised = X/X.std(axis=0)\n",
    "\n",
    "# alphas_lasso, coefs_lasso, _ = lasso_path(X_standardised, y.values.reshape(-1),alphas = [.1, .5, 1, 10, 100, 1000, 10000], fit_intercept=False)\n",
    "alphas_lasso, coefs_lasso, _ = lasso_path(X_standardised, y.values.reshape(-1),alphas = [.1, .5, 1, 10, 100, 1000, 10000], fit_intercept=False)\n",
    "\n",
    "log_alphas_lasso = np.log10(alphas_lasso)\n",
    "for coef_l in coefs_lasso:\n",
    "    l1 = plt.plot(log_alphas_lasso, coef_l)\n",
    "\n",
    "plt.xlabel('Log(alpha)')\n",
    "plt.ylabel('coefficients')\n",
    "plt.title('Lasso Path')\n",
    "# add a legend\n",
    "plt.axis('tight')"
   ]
  },
  {
   "cell_type": "markdown",
   "metadata": {},
   "source": [
    "# TODO list\n",
    "\n",
    "- Clarification of the **normalize** parameter in the LASSO function\n",
    "- Adding a legend to the Lasso Path plot to clarify the mapping of variables and colours"
   ]
  }
 ],
 "metadata": {
  "kernelspec": {
   "display_name": "Python [conda env:test_tf]",
   "language": "python",
   "name": "conda-env-test_tf-py"
  },
  "language_info": {
   "codemirror_mode": {
    "name": "ipython",
    "version": 3
   },
   "file_extension": ".py",
   "mimetype": "text/x-python",
   "name": "python",
   "nbconvert_exporter": "python",
   "pygments_lexer": "ipython3",
   "version": "3.6.6"
  }
 },
 "nbformat": 4,
 "nbformat_minor": 2
}
